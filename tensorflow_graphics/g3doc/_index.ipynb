{
  "cells": [
    {
      "cell_type": "code",
      "execution_count": 0,
      "metadata": {
        "colab": {},
        "colab_type": "code",
        "id": "Qy1CfOu7ioF8"
      },
      "outputs": [],
      "source": [
        "from __future__ import absolute_import\n",
        "from __future__ import division\n",
        "from __future__ import print_function\n",
        "\n",
        "import numpy as np\n",
        "import tensorflow as tf\n",
        "import trimesh\n",
        "\n",
        "import tensorflow_graphics.geometry.transformation as tfg_transformation\n",
        "from tensorflow_graphics.notebooks import threejs_visualization\n",
        "\n",
        "tf.enable_eager_execution()\n",
        "\n",
        "# Download the mesh.\n",
        "!wget -N https://storage.googleapis.com/tensorflow-graphics/notebooks/index/cow.obj --no-check-certificate\n",
        "# Load the mesh.\n",
        "mesh = trimesh.load(\"cow.obj\")\n",
        "mesh = {\"vertices\": mesh.vertices, \"faces\": mesh.faces}\n",
        "# Visualize the original mesh.\n",
        "threejs_visualization.triangular_mesh_renderer(mesh, width=400, height=400)\n",
        "# Set the axis and angle parameters.\n",
        "axis = np.array((0., 1., 0.))  # y axis.\n",
        "angle = np.array((np.pi / 4.,))  # 45 degree angle.\n",
        "# Rotate the mesh.\n",
        "mesh['vertices'] = tfg_transformation.axis_angle.rotate(mesh['vertices'], axis,\n",
        "                                                        angle).numpy()\n",
        "# Visualize the rotated mesh.\n",
        "threejs_visualization.triangular_mesh_renderer(mesh, width=400, height=400)"
      ]
    }
  ],
  "metadata": {
    "colab": {
      "collapsed_sections": [],
      "last_runtime": {
        "build_target": "//learning/brain/python/client:colab_notebook",
        "kind": "private"
      },
      "name": "_index.ipynb",
      "provenance": [
        {
          "file_id": "1cMReWaLLkm9kJLkDnZ2D_w74HYe-dm6Y",
          "timestamp": 1557210843432
        }
      ],
      "version": "0.3.2"
    },
    "kernelspec": {
      "display_name": "Python 2",
      "name": "python2"
    }
  },
  "nbformat": 4,
  "nbformat_minor": 0
}
