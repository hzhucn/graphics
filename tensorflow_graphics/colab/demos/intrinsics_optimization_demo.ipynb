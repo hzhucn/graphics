{
  "cells": [
    {
      "cell_type": "markdown",
      "metadata": {
        "colab_type": "text",
        "id": "Bp1v8vOd0TSl"
      },
      "source": [
        "In this Colab, the goal is to recover the intrinsic parameters of a camera given an observation and correspondances between the observation and the render of the current solution.  Things are kept simple by only inserting a rectangle in the 3d scene, and using it as the source of correspondances during the optimization. The minimization is performed using L-BFGS."
      ]
    },
    {
      "cell_type": "code",
      "execution_count": 0,
      "metadata": {
        "colab": {},
        "colab_type": "code",
        "id": "CXnl2yDzCcvP"
      },
      "outputs": [],
      "source": [
        "import tensorflow as tf\n",
        "import matplotlib.pyplot as plt\n",
        "import numpy as np\n",
        "\n",
        "#################################\n",
        "# Imports the necessary modules #\n",
        "#################################\n",
        "from colabtools import adhoc_import\n",
        "with adhoc_import.Google3():\n",
        "  from tensorflow_graphics.camera import perspective"
      ]
    },
    {
      "cell_type": "code",
      "execution_count": 0,
      "metadata": {
        "colab": {},
        "colab_type": "code",
        "id": "C5dSYND5E0h0"
      },
      "outputs": [],
      "source": [
        "#############\n",
        "# Utilities #\n",
        "#############\n",
        "\n",
        "\n",
        "def render_rectangle(vertices, focal, principal_point, image_dimensions):\n",
        "  image = np.zeros((int(image_dimensions[0]), int(image_dimensions[1]), 3))\n",
        "  vertices_2d = perspective.project(vertices, focal, principal_point)\n",
        "  with tf.Session() as sess:\n",
        "    vertices_2d_ = np.array(sess.run([vertices_2d]))\n",
        "    top_left_corner = np.squeeze(\n",
        "        np.maximum(vertices_2d_.min(1), (0, 0)).astype(int))\n",
        "    bottom_right_corner = np.squeeze(\n",
        "        np.minimum(\n",
        "            vertices_2d_.max(1),\n",
        "            (image_dimensions[1] - 1, image_dimensions[0] - 1)).astype(int))\n",
        "    for x in range(top_left_corner[0], bottom_right_corner[0] + 1):\n",
        "      for y in range(top_left_corner[1], bottom_right_corner[1] + 1):\n",
        "        c1 = float(bottom_right_corner[0] + 1 -\n",
        "                   x) / float(bottom_right_corner[0] + 1 - top_left_corner[0])\n",
        "        c2 = float(bottom_right_corner[1] + 1 -\n",
        "                   y) / float(bottom_right_corner[1] + 1 - top_left_corner[1])\n",
        "        image[y, x] = (c1, c2, 1)\n",
        "    return image\n",
        "\n",
        "\n",
        "def plot_optimization_step(target, image):\n",
        "  plt.figure(figsize=(20, 10))\n",
        "  ax = plt.subplot(\"131\")\n",
        "  ax.set_title(\"Optimization target\")\n",
        "  _ = ax.imshow(target)\n",
        "  ax = plt.subplot(\"132\")\n",
        "  ax.set_title(\"Current solution\")\n",
        "  _ = ax.imshow(image)\n",
        "  ax = plt.subplot(\"133\")\n",
        "  ax.set_title(\"Difference image\")\n",
        "  _ = ax.imshow(np.abs(target - image))\n",
        "  plt.show()\n",
        "\n",
        "\n",
        "def print_errors(focal_error, centre_error):\n",
        "  print(\"Err focal %f\" % (focal_error,))\n",
        "  print(\"Err centre %f\" % (centre_error,))"
      ]
    },
    {
      "cell_type": "code",
      "execution_count": 0,
      "metadata": {
        "colab": {},
        "colab_type": "code",
        "id": "0f0m57YmDZ45"
      },
      "outputs": [],
      "source": [
        "##############################################################\n",
        "# Constructs the camera matrices and the object living in 3d #\n",
        "##############################################################\n",
        "image_width = 400\n",
        "image_height = 300\n",
        "image_dimensions = np.array((image_height, image_width), dtype=np.float64)\n",
        "gt_focal = np.array((image_height, image_height), dtype=np.float64)\n",
        "gt_principal_point = np.array((image_width, image_height)) / 2.0 + (\n",
        "    np.random.random(2) - 0.5) * image_width / 3.0\n",
        "\n",
        "# Sets up the vertices of the 3d object\n",
        "object_depth = 1000.0\n",
        "vertices = np.array(((-150.0, -75.0, object_depth), (150.0, 75.0,\n",
        "                                                     object_depth)))\n",
        "\n",
        "####################\n",
        "# Builds the graph #\n",
        "####################\n",
        "tf.reset_default_graph()\n",
        "\n",
        "observed_focal = tf.Variable(gt_focal +\n",
        "                             (np.random.random(2) - 0.5) * image_width)\n",
        "observed_principal_point = tf.Variable(\n",
        "    gt_principal_point + (np.random.random(2) - 0.5) * image_width / 4)\n",
        "\n",
        "vertices_2d_gt = perspective.project(vertices, gt_focal, gt_principal_point)\n",
        "vertices_2d_observed = perspective.project(vertices, observed_focal,\n",
        "                                           observed_principal_point)\n",
        "\n",
        "with tf.name_scope(\"loss\"):\n",
        "  loss = tf.nn.l2_loss(vertices_2d_gt - vertices_2d_observed)\n",
        "\n",
        "learning_rate = 0.1\n",
        "with tf.name_scope(\"optimizer\"):\n",
        "  optimizer = tf.contrib.opt.ScipyOptimizerInterface(\n",
        "      loss,\n",
        "      var_list=[observed_focal, observed_principal_point],\n",
        "      options={\"maxiter\": 2})\n",
        "\n",
        "with tf.name_scope(\"initialize_variables\"):\n",
        "  init = tf.initialize_all_variables()\n",
        "\n",
        "session = tf.Session()\n",
        "session.run(init)\n",
        "\n",
        "###################################\n",
        "# Contruction of the target image #\n",
        "###################################\n",
        "target = render_rectangle(vertices, gt_focal, gt_principal_point,\n",
        "                          image_dimensions)\n",
        "\n",
        "############################\n",
        "# Display initial solution #\n",
        "############################\n",
        "loss_v, observed_focal_v, observed_principal_point_v = session.run(\n",
        "    [loss, observed_focal, observed_principal_point])\n",
        "print \"Initial configuration:\"\n",
        "print_errors(\n",
        "    np.linalg.norm(observed_focal_v - gt_focal),\n",
        "    np.linalg.norm(observed_principal_point_v - gt_principal_point))\n",
        "image = render_rectangle(vertices, observed_focal_v, observed_principal_point_v,\n",
        "                         image_dimensions)\n",
        "plot_optimization_step(target, image)\n",
        "\n",
        "################\n",
        "# Optimization #\n",
        "################\n",
        "max_iterations = 20\n",
        "for it in range(max_iterations):\n",
        "  optimizer.minimize(session)\n",
        "  loss_v, observed_focal_v, observed_principal_point_v = session.run(\n",
        "      [loss, observed_focal, observed_principal_point])\n",
        "  # Display current solution\n",
        "  print \"Loss at iteration %d\" % (it + 1,)\n",
        "  image = render_rectangle(vertices, observed_focal_v,\n",
        "                           observed_principal_point_v, image_dimensions)\n",
        "  print_errors(\n",
        "      np.linalg.norm(observed_focal_v - gt_focal),\n",
        "      np.linalg.norm(observed_principal_point_v - gt_principal_point))\n",
        "  plot_optimization_step(target, image)\n",
        "  if loss_v \u003c 0.5:\n",
        "    break"
      ]
    }
  ],
  "metadata": {
    "colab": {
      "collapsed_sections": [],
      "last_runtime": {
        "build_target": "//learning/brain/python/client:colab_notebook",
        "kind": "private"
      },
      "name": "intrinsics_optimization_demo.ipynb",
      "provenance": [
        {
          "file_id": "1hHdiPU7Nof_y2uHzfxHqxoiTM0ssPu4-",
          "timestamp": 1548265984293
        }
      ],
      "version": "0.3.2"
    },
    "kernelspec": {
      "display_name": "Python 2",
      "name": "python2"
    }
  },
  "nbformat": 4,
  "nbformat_minor": 0
}
