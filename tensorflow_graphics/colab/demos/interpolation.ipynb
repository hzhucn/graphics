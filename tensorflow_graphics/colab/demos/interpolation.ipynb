{
  "cells": [
    {
      "cell_type": "code",
      "execution_count": 0,
      "metadata": {
        "cellView": "form",
        "colab": {},
        "colab_type": "code",
        "id": "odw6xhAGNYsX"
      },
      "outputs": [],
      "source": [
        "#@title Imports\n",
        "\n",
        "import numpy as np\n",
        "import tensorflow as tf\n",
        "import matplotlib.pyplot as plt\n",
        "\n",
        "from colabtools import interactive_forms\n",
        "from colabtools import adhoc_import\n",
        "\n",
        "with adhoc_import.Google3():\n",
        "  from tensorflow_graphics.interpolation import bspline\n",
        "  from tensorflow_graphics.interpolation import slerp"
      ]
    },
    {
      "cell_type": "code",
      "execution_count": 0,
      "metadata": {
        "cellView": "form",
        "colab": {},
        "colab_type": "code",
        "id": "NOIF78eAOg-L"
      },
      "outputs": [],
      "source": [
        "#@title B-Spline Interpolation { vertical-output: true, run: \"auto\"}\n",
        "\n",
        "num_knots = 5\n",
        "cyclical = True  #@param { type: \"boolean\" }\n",
        "degree = 2  #@param { type: \"slider\", min: 1, max: 4, step: 1}\n",
        "knot_1_x = -2.5  #@param { type: \"slider\", min: -3.0, max: 3.0, step: 0.5}\n",
        "knot_1_y = -1  #@param { type: \"slider\", min: -3.0, max: 3.0, step: 0.5}\n",
        "knot_2_x = -1  #@param { type: \"slider\", min: -3.0, max: 3.0, step: 0.5}\n",
        "knot_2_y = 2  #@param { type: \"slider\", min: -3.0, max: 3.0, step: 0.5}\n",
        "knot_3_x = 0  #@param { type: \"slider\", min: -3.0, max: 3.0, step: 0.5}\n",
        "knot_3_y = -3  #@param { type: \"slider\", min: -3.0, max: 3.0, step: 0.5}\n",
        "knot_4_x = 1.5  #@param { type: \"slider\", min: -3.0, max: 3.0, step: 0.5}\n",
        "knot_4_y = 3  #@param { type: \"slider\", min: -3.0, max: 3.0, step: 0.5}\n",
        "knot_5_x = 3  #@param { type: \"slider\", min: -3.0, max: 3.0, step: 0.5}\n",
        "knot_5_y = 1  #@param { type: \"slider\", min: -3.0, max: 3.0, step: 0.5}\n",
        "\n",
        "max_pos = num_knots if cyclical else num_knots - degree\n",
        "knots = tf.constant(((knot_1_x, knot_2_x, knot_3_x, knot_4_x, knot_5_x),\n",
        "                     (knot_1_y, knot_2_y, knot_3_y, knot_4_y, knot_5_y)))\n",
        "\n",
        "positions = tf.expand_dims(\n",
        "    tf.range(start=0.0, limit=max_pos, delta=0.01, dtype=knots.dtype), axis=-1)\n",
        "\n",
        "spline = bspline.interpolate(knots, positions, degree, cyclical)\n",
        "spline = tf.squeeze(spline, axis=1)\n",
        "\n",
        "with tf.Session() as sess:\n",
        "  sess.run(tf.global_variables_initializer())\n",
        "  k, p, s = sess.run([knots, positions, spline])\n",
        "\n",
        "plt.figure(figsize=(10,10))\n",
        "plt.plot(s[:, 0], s[:, 1], 'r')\n",
        "plt.plot(k[0, :], k[1, :], 'b.')\n",
        "plt.axis([-3.5, 3.5, -3.5, 3.5])\n",
        "plt.show()"
      ]
    },
    {
      "cell_type": "code",
      "execution_count": 0,
      "metadata": {
        "cellView": "form",
        "colab": {},
        "colab_type": "code",
        "id": "v9LPwqvGj8GG"
      },
      "outputs": [],
      "source": [
        "#@title Slerp - Vectors will be normalized first { vertical-output: true, run: \"auto\"}\n",
        "\n",
        "vector_1_x = -0.56  #@param { type: \"slider\", min: -1.0, max: 1.0, step: 0.01}\n",
        "vector_1_y = -0.39  #@param { type: \"slider\", min: -1.0, max: 1.0, step: 0.01}\n",
        "vector_2_x = 0.47  #@param { type: \"slider\", min: -1.0, max: 1.0, step: 0.01}\n",
        "vector_2_y = 0.74  #@param { type: \"slider\", min: -1.0, max: 1.0, step: 0.01}\n",
        "percent = 0.7  #@param { type: \"slider\", min: 0.0, max: 1.0, step: 0.01}\n",
        "\n",
        "vector_1 = tf.constant((vector_1_x, vector_1_y), dtype=tf.float32)\n",
        "vector_2 = tf.constant((vector_2_x, vector_2_y), dtype=tf.float32)\n",
        "vector_1 = tf.nn.l2_normalize(vector_1)\n",
        "vector_2 = tf.nn.l2_normalize(vector_2)\n",
        "vector_3 = slerp.interpolate(vector_1, vector_2, percent, method=slerp.InterpolationType.VECTOR)\n",
        "\n",
        "with tf.Session() as sess:\n",
        "  sess.run(tf.global_variables_initializer())\n",
        "  v1, v2, v3 = sess.run([vector_1, vector_2, vector_3])\n",
        "\n",
        "plt.figure(figsize=(10,10))\n",
        "circle = plt.Circle((0, 0), 1.0, color='g', fill=False)\n",
        "ax = plt.gca()\n",
        "ax.add_artist(circle)\n",
        "plt.arrow(0.0, 0.0, v1[0], v1[1], width=0.001, color='k', length_includes_head=True)\n",
        "plt.arrow(0.0, 0.0, v2[0], v2[1], width=0.001, color='b', length_includes_head=True)\n",
        "plt.arrow(0.0, 0.0, v3[0], v3[1], width=0.001, color='r', length_includes_head=True)\n",
        "plt.axis([-1.1, 1.1, -1.1, 1.1])\n",
        "plt.show()"
      ]
    }
  ],
  "metadata": {
    "colab": {
      "collapsed_sections": [],
      "name": "interpolation_demo.ipynb",
      "provenance": [
        {
          "file_id": "11at2ObcZPUBROxL0rpnb0n_3DbMm6VFx",
          "timestamp": 1548977972856
        }
      ],
      "version": "0.3.2"
    },
    "kernelspec": {
      "display_name": "Python 2",
      "name": "python2"
    }
  },
  "nbformat": 4,
  "nbformat_minor": 0
}
