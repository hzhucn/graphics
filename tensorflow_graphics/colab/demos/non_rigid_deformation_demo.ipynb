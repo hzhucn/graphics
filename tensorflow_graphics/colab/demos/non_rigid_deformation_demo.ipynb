{
  "cells": [
    {
      "cell_type": "markdown",
      "metadata": {
        "colab_type": "text",
        "id": "YMDobAW8mfWo"
      },
      "source": [
        "This Colab illustrates an example of mesh deformation."
      ]
    },
    {
      "cell_type": "code",
      "execution_count": 0,
      "metadata": {
        "colab": {},
        "colab_type": "code",
        "id": "-OAKdOoTf_-f"
      },
      "outputs": [],
      "source": [
        "import numpy as np\n",
        "import tensorflow as tf\n",
        "from matplotlib import collections\n",
        "import matplotlib.pyplot as plt\n",
        "\n",
        "from colabtools import adhoc_import\n",
        "with adhoc_import.Google3():\n",
        "  from tensorflow_graphics.deformation_energies import as_conformal_as_possible\n",
        "  from tensorflow_graphics.transformation import quaternion"
      ]
    },
    {
      "cell_type": "markdown",
      "metadata": {
        "colab_type": "text",
        "id": "a2rJ0ONHeLyO"
      },
      "source": [
        "Helper functions to sample points along a line and to display results."
      ]
    },
    {
      "cell_type": "code",
      "execution_count": 0,
      "metadata": {
        "colab": {},
        "colab_type": "code",
        "id": "yjT1iK81l6J9"
      },
      "outputs": [],
      "source": [
        "def _draw_lines_and_constaints(points_2d, edges, title=None, landmarks=None):\n",
        "  \"\"\"Draws 2d line segments and landmarks.\n",
        "\n",
        "  Args:\n",
        "    points_2d: A numpy array containing 2d points.\n",
        "    edges: a vector of 2d tuples containing all the edges to draw. Each edge\n",
        "      contains two indices refering to points stored in `points_2d`.\n",
        "    title: Optional string defining the title of the plotted image.\n",
        "    landmarks: Optional numpy array of shape [N,2] containing landmark points to\n",
        "      render.\n",
        "  \"\"\"\n",
        "  n_edges = len(edges)\n",
        "  lines = [(points_2d[edges[edge_index][0], :],\n",
        "            points_2d[edges[edge_index][1], :])\n",
        "           for edge_index in range(n_edges)]\n",
        "  lc = collections.LineCollection(lines)\n",
        "  _, ax = plt.subplots()\n",
        "  ax.axes.get_xaxis().set_visible(False)\n",
        "  ax.axes.get_yaxis().set_visible(False)\n",
        "  ax.add_collection(lc)\n",
        "  ax.set_xlim((-2.0, 2.0))\n",
        "  ax.set_ylim((-2.0, 2.0))\n",
        "\n",
        "  if title is not None:\n",
        "    ax.set_title(title)\n",
        "\n",
        "  if landmarks is not None:\n",
        "    radius = min(\n",
        "        np.amax(points_2d[:, 0]) - np.amin(points_2d[:, 0]),\n",
        "        np.amax(points_2d[:, 1]) - np.amin(points_2d[:, 1])) / 20.0\n",
        "    for v in range(landmarks.shape[0]):\n",
        "      circle = plt.Circle((landmarks[v, 0], landmarks[v, 1]), radius, color=\"r\")\n",
        "      ax.add_artist(circle)\n",
        "\n",
        "\n",
        "def _sample_points_along_line_segment(start_point, endpoint, n_points):\n",
        "  \"\"\"Samples ordered and equally spaced points along a line segment.\n",
        "\n",
        "  Args:\n",
        "    start_point: A numpy array of shape [2] containing the 2d position of the\n",
        "      start point of the line segment.\n",
        "    endpoint: A numpy array of shape [2] containing the 2d position of the\n",
        "      endpoint of the line segment.\n",
        "    n_points: The number of points to generate along the line segment.\n",
        "\n",
        "  Returns:\n",
        "    A list of tuples contraining ordered and equally spaced 2d points\n",
        "    distributed between `start_point` and `endpoint`.\n",
        "  \"\"\"\n",
        "  edges = []\n",
        "  step = (endpoint - start_point) / (n_points - 1)\n",
        "  point_index = 0\n",
        "  points = np.zeros((n_points, 2))\n",
        "  for point_index in range(n_points - 1):\n",
        "    points[point_index] = start_point + point_index * step\n",
        "    edges.append((point_index, point_index + 1))\n",
        "  points[n_points - 1] = start_point + (n_points - 1) * step\n",
        "  return points, edges"
      ]
    },
    {
      "cell_type": "code",
      "execution_count": 0,
      "metadata": {
        "cellView": "both",
        "colab": {},
        "colab_type": "code",
        "id": "r2THxUWZV2UH"
      },
      "outputs": [],
      "source": [
        "###############\n",
        "# UI controls #\n",
        "###############\n",
        "#@title Contraints on the deformed pose { vertical-output: false, run: \"auto\" }\n",
        "constraint_1_y = 0.0  #@param { type: \"slider\", min: -1, max: 1 , step: 0.05 }\n",
        "constraint_2_y = -1.0  #@param { type: \"slider\", min: -1, max: 1 , step: 0.05 }\n",
        "constraint_3_y = 0  #@param { type: \"slider\", min: -1, max: 1 , step: 0.05 }\n",
        "\n",
        "tf.reset_default_graph()\n",
        "\n",
        "########################\n",
        "# Problem construction #\n",
        "########################\n",
        "# Builds the rest pose.\n",
        "start_point_line = np.array((-1.0, 0.0))\n",
        "endpoint_line = np.array((1.0, 0.0))\n",
        "n_samples = 20\n",
        "vertices_rest_pose, connectivity = _sample_points_along_line_segment(\n",
        "    start_point_line, endpoint_line, n_samples)\n",
        "vertices_rest_pose = tf.convert_to_tensor(vertices_rest_pose)\n",
        "\n",
        "# Initializes the deformed pose by adding contraints to the rest pose.\n",
        "half_sample = n_samples / 2\n",
        "constraints = np.array(((-1.0, constraint_1_y), (0.0, constraint_2_y),\n",
        "                        (1.0, constraint_3_y)))\n",
        "tf_constraints = [\n",
        "    tf.constant((-1.0 + index, constraint), dtype=vertices_rest_pose.dtype)\n",
        "    for index, constraint in enumerate((constraint_1_y, constraint_2_y,\n",
        "                                        constraint_3_y))\n",
        "]\n",
        "free_variables_1 = tf.Variable(vertices_rest_pose[1:half_sample - 1])\n",
        "free_variables_2 = tf.Variable(vertices_rest_pose[half_sample:-1])\n",
        "vertices_deformed_pose = tf.concat(\n",
        "    ((tf_constraints[0],), free_variables_1,\n",
        "     (tf_constraints[1],), free_variables_2, (tf_constraints[2],)), 0)\n",
        "rotations = tf.Variable(quaternion.from_euler(np.zeros((n_samples, 3))))\n",
        "\n",
        "with tf.name_scope(\"initialize_variables\"):\n",
        "  init = tf.initialize_all_variables()\n",
        "\n",
        "sess = tf.Session()\n",
        "sess.run(init)\n",
        "\n",
        "# Shows the rest pose and the initial deformed pose.\n",
        "_draw_lines_and_constaints(\n",
        "    vertices_rest_pose.eval(session=sess), connectivity, \"Rest pose\")\n",
        "_draw_lines_and_constaints(\n",
        "    vertices_deformed_pose.eval(session=sess), connectivity, \"Constraints\",\n",
        "    constraints)\n",
        "\n",
        "# Builds the deformation energy.\n",
        "fill = tf.zeros(shape=(n_samples, 1), dtype=vertices_rest_pose.dtype)\n",
        "vertices_rest_pose = tf.concat((vertices_rest_pose, fill), axis=-1)\n",
        "vertices_deformed_pose = tf.concat((vertices_deformed_pose, fill), axis=-1)\n",
        "energy = as_conformal_as_possible.energy(\n",
        "    vertices_rest_pose, vertices_deformed_pose, rotations, connectivity)\n",
        "\n",
        "################\n",
        "# Optimization #\n",
        "################\n",
        "with tf.name_scope(\"optimizer\"):\n",
        "  optimizer = tf.contrib.opt.ScipyOptimizerInterface(\n",
        "      energy, options={\"maxiter\": n_samples})\n",
        "\n",
        "n_iterations = 20\n",
        "for it in range(n_iterations):\n",
        "  optimizer.minimize(sess)\n",
        "  vertices_deformed_pose_ = sess.run(vertices_deformed_pose)\n",
        "\n",
        "_draw_lines_and_constaints(\n",
        "    vertices_deformed_pose.eval(session=sess)[:, 0:2], connectivity,\n",
        "    \"Deformed pose\", constraints)"
      ]
    }
  ],
  "metadata": {
    "colab": {
      "collapsed_sections": [],
      "last_runtime": {
        "build_target": "//learning/brain/python/client:colab_notebook",
        "kind": "private"
      },
      "name": "non_rigid_deformation_demo.ipynb",
      "provenance": [
        {
          "file_id": "1OP8a2KgsTouYhqemuWRyQBjsdZBRRPvb",
          "timestamp": 1551600799384
        }
      ],
      "version": "0.3.2"
    },
    "kernelspec": {
      "display_name": "Python 2",
      "name": "python2"
    }
  },
  "nbformat": 4,
  "nbformat_minor": 0
}
