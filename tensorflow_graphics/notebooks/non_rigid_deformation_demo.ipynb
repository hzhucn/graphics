{
  "cells": [
    {
      "cell_type": "markdown",
      "metadata": {
        "colab_type": "text",
        "id": "cDgpEHaUETGA"
      },
      "source": [
        "##### Copyright 2019 Google LLC.\n",
        "\n",
        "Licensed under the Apache License, Version 2.0 (the \"License\")."
      ]
    },
    {
      "cell_type": "code",
      "execution_count": 0,
      "metadata": {
        "colab": {},
        "colab_type": "code",
        "id": "esgwBPvbEVsD"
      },
      "outputs": [],
      "source": [
        "# Licensed under the Apache License, Version 2.0 (the \"License\");\n",
        "# you may not use this file except in compliance with the License.\n",
        "# You may obtain a copy of the License at\n",
        "#\n",
        "# https://www.apache.org/licenses/LICENSE-2.0\n",
        "#\n",
        "# Unless required by applicable law or agreed to in writing, software\n",
        "# distributed under the License is distributed on an \"AS IS\" BASIS,\n",
        "# WITHOUT WARRANTIES OR CONDITIONS OF ANY KIND, either express or implied.\n",
        "# See the License for the specific language governing permissions and\n",
        "# limitations under the License."
      ]
    },
    {
      "cell_type": "markdown",
      "metadata": {
        "colab_type": "text",
        "id": "YMDobAW8mfWo"
      },
      "source": [
        "# Non-rigid surface deformation\n",
        "Non-rigid surface deformation is a technique that, among other things, can be used to interactively manipulate meshes or to deform a template mesh to fit to a point-cloud. When manipulating meshes, this can for instance allow users to move the hand of a character, and have the rest of the arm deform in a realistic manner. It is interesting to note that the deformation can also be performed over the scale of parts or the entire mesh.\n",
        "\n",
        "![](https://storage.googleapis.com/tensorflow-graphics/notebooks/non_rigid_deformation/task.jpg)\n",
        "\n",
        "This notebook illustrates how to use [Tensorflow Graphics](https://github.com/tensorflow/graphics) to perform defomations simliar to the one contained in the above image. "
      ]
    },
    {
      "cell_type": "markdown",
      "metadata": {
        "colab_type": "text",
        "id": "BSMKlF6nAEPE"
      },
      "source": [
        "## Setup \u0026 Imports\n",
        "If Tensorflow Graphics is not installed on your system, the following cell can install the Tensorflow Graphics package for you."
      ]
    },
    {
      "cell_type": "code",
      "execution_count": 0,
      "metadata": {
        "colab": {},
        "colab_type": "code",
        "id": "gpmGP3DgAKRe"
      },
      "outputs": [],
      "source": [
        "!pip install tensorflow_graphics"
      ]
    },
    {
      "cell_type": "markdown",
      "metadata": {
        "colab_type": "text",
        "id": "-YxmozRVANeD"
      },
      "source": [
        "Now that Tensorflow Graphics is installed, let's import everything needed to run the demo contained in this notebook."
      ]
    },
    {
      "cell_type": "code",
      "execution_count": 0,
      "metadata": {
        "colab": {},
        "colab_type": "code",
        "id": "-OAKdOoTf_-f"
      },
      "outputs": [],
      "source": [
        "import time\n",
        "\n",
        "from google.colab.output import _js_builder\n",
        "from google.colab.output import _publish\n",
        "from matplotlib import collections\n",
        "import matplotlib.pyplot as plt\n",
        "import numpy as np\n",
        "import tensorflow as tf\n",
        "\n",
        "from colabtools import adhoc_import\n",
        "with adhoc_import.Google3():\n",
        "  from tensorflow_graphics.geometry.deformation_energy import as_conformal_as_possible\n",
        "  from tensorflow_graphics.geometry.transformation import quaternion\n",
        "  from tensorflow_graphics.notebooks import threejs_visualization"
      ]
    },
    {
      "cell_type": "markdown",
      "metadata": {
        "colab_type": "text",
        "id": "1jLD48VvMquE"
      },
      "source": [
        "In this example, we build a mesh that corresponds to a flat and rectangular surface. Using the sliders, you can control the position of the deformation constraints applied to that surface, which respectively correspond to all the points along the left boundary, center, and right boundary of the mesh."
      ]
    },
    {
      "cell_type": "code",
      "execution_count": 0,
      "metadata": {
        "cellView": "both",
        "colab": {},
        "colab_type": "code",
        "id": "JVSAgVRXypak"
      },
      "outputs": [],
      "source": [
        "###############\n",
        "# UI controls #\n",
        "###############\n",
        "#@title Contraints on the deformed pose { vertical-output: false, run: \"auto\" }\n",
        "constraint_1_z = 0  #@param { type: \"slider\", min: -1, max: 1 , step: 0.05 }\n",
        "constraint_2_z = -1.0  #@param { type: \"slider\", min: -1, max: 1 , step: 0.05 }\n",
        "constraint_3_z = 0  #@param { type: \"slider\", min: -1, max: 1 , step: 0.05 }\n",
        "\n",
        "tf.reset_default_graph()\n",
        "\n",
        "\n",
        "def _build_column(start_x, end_x, num_vertices_per_column, y):\n",
        "  \"\"\"For a fixed y, builds `num_vertices_per_column` vertices with x values\n",
        "  varying between `start_x` and `end_x`. The z values are set to 0, except for\n",
        "  the first, central, and last vertices that follow used-defined values.\"\"\"\n",
        "  column = np.zeros(shape=(num_vertices_per_column, 3))\n",
        "  column[:, 0] = np.linspace(start_x, end_x, num_vertices_per_column)\n",
        "  column[:, 1] = y\n",
        "  column_rest_pose = np.array(column)\n",
        "  column[0, 2] = constraint_1_z\n",
        "  column[num_vertices_per_column / 2, 2] = constraint_2_z\n",
        "  column[num_vertices_per_column - 1, 2] = constraint_3_z\n",
        "  column_tf = tf.concat(\n",
        "      (tf.constant(column[0:1, :]),\n",
        "       tf.Variable(column[1:num_vertices_per_column / 2, :]),\n",
        "       tf.constant(column[num_vertices_per_column /\n",
        "                          2:num_vertices_per_column / 2 + 1, :]),\n",
        "       tf.Variable(column[num_vertices_per_column / 2 +\n",
        "                          1:num_vertices_per_column - 1, :]),\n",
        "       tf.constant(\n",
        "           column[num_vertices_per_column - 1:num_vertices_per_column, :])),\n",
        "      axis=0)\n",
        "  return column_tf, column_rest_pose\n",
        "\n",
        "\n",
        "# Builds the mesh in the rest pose and a second mesh with the specified constraints.\n",
        "def _create_stripe(num_vertices):\n",
        "  num_vertices_per_column = num_vertices / 2\n",
        "  start_x = -2.\n",
        "  end_x = 2.\n",
        "  # Builds vertices.\n",
        "  stripe_width = 1.0\n",
        "  left_column, left_column_rest = _build_column(start_x, end_x,\n",
        "                                                num_vertices_per_column, 0.0)\n",
        "  right_column, right_column_rest = _build_column(start_x, end_x,\n",
        "                                                  num_vertices_per_column, 1.0)\n",
        "  vertices_deformed = tf.concat((left_column, right_column), axis=0)\n",
        "  vertices_rest = np.concatenate((left_column_rest, right_column_rest))\n",
        "\n",
        "  # Builds faces and edges.\n",
        "  faces = []\n",
        "  edges = []\n",
        "  for i in range(num_vertices_per_column):\n",
        "    if i \u003c num_vertices_per_column - 1:\n",
        "      faces.append((i, i + 1, num_vertices_per_column + i))\n",
        "      edges.append((i, i + 1))\n",
        "      edges.append((i, num_vertices_per_column + i))\n",
        "      edges.append((i + 1, num_vertices_per_column + i))\n",
        "    if i \u003e 0:\n",
        "      faces.append((i, num_vertices_per_column + i,\n",
        "                    num_vertices_per_column + i - 1))\n",
        "      edges.append((i, num_vertices_per_column + i - 1))\n",
        "      edges.append((i, num_vertices_per_column + i))\n",
        "      edges.append((num_vertices_per_column + i - 1,\n",
        "                    num_vertices_per_column + i))\n",
        "  return vertices_rest, vertices_deformed, np.array(faces), list(\n",
        "      dict.fromkeys(edges))\n",
        "\n",
        "\n",
        "# Creating the rest pose and the rest pose with added constraints (deformed pose).\n",
        "num_vertices = 38\n",
        "vertices_rest_pose, vertices_deformed_pose, faces, connectivity = _create_stripe(\n",
        "    num_vertices)\n",
        "rotations = tf.Variable(quaternion.from_euler(np.zeros((num_vertices, 3))))\n",
        "\n",
        "energy = as_conformal_as_possible.energy(vertices_rest_pose,\n",
        "                                         vertices_deformed_pose, rotations,\n",
        "                                         connectivity)\n",
        "\n",
        "init = tf.initialize_all_variables()\n",
        "\n",
        "sess = tf.Session()\n",
        "sess.run(init)\n",
        "\n",
        "mesh_rest_pose = {'vertices': vertices_rest_pose, 'faces': faces}\n",
        "mesh_deformed_pose = {\n",
        "    'vertices': sess.run(vertices_deformed_pose),\n",
        "    'faces': faces\n",
        "}\n",
        "\n",
        "# Builds a camera and render the mesh.\n",
        "camera = threejs_visualization.build_perspective_camera(\n",
        "    field_of_view=40.0, position=(0.0, -5.0, 5.0))\n",
        "width = 500\n",
        "height = 500\n",
        "threejs_visualization.triangular_mesh_renderer([mesh_rest_pose],\n",
        "                                               width=width,\n",
        "                                               height=height,\n",
        "                                               camera=camera)\n",
        "threejs_visualization.triangular_mesh_renderer([mesh_deformed_pose],\n",
        "                                               width=width,\n",
        "                                               height=height,\n",
        "                                               camera=camera)\n",
        "\n",
        "geometries = threejs_visualization.triangular_mesh_renderer(\n",
        "    [mesh_deformed_pose], width=width, height=height, camera=camera)\n",
        "\n",
        "################\n",
        "# Optimization #\n",
        "################\n",
        "with tf.name_scope('optimizer'):\n",
        "  # A quasi-Newton optimizer is used here for reasons of convergence speed.\n",
        "  optimizer = tf.contrib.opt.ScipyOptimizerInterface(\n",
        "      energy, options={'maxiter': 4})\n",
        "\n",
        "num_iterations = 20\n",
        "for it in range(num_iterations):\n",
        "  optimizer.minimize(sess)\n",
        "  vertices_deformed_pose_ = sess.run(vertices_deformed_pose)\n",
        "  geometries[0].getAttribute('position').copyArray(\n",
        "      vertices_deformed_pose_.ravel().tolist())\n",
        "  geometries[0].getAttribute('position').needsUpdate = True\n",
        "  geometries[0].computeVertexNormals()\n",
        "  time.sleep(0.1)"
      ]
    }
  ],
  "metadata": {
    "colab": {
      "collapsed_sections": [],
      "last_runtime": {
        "build_target": "//learning/brain/python/client:colab_notebook",
        "kind": "private"
      },
      "name": "non_rigid_deformation_demo.ipynb",
      "provenance": [],
      "version": "0.3.2"
    },
    "kernelspec": {
      "display_name": "Python 2",
      "name": "python2"
    }
  },
  "nbformat": 4,
  "nbformat_minor": 0
}
